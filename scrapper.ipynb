{
 "cells": [
  {
   "cell_type": "code",
   "execution_count": 2,
   "metadata": {},
   "outputs": [],
   "source": [
    "from bs4 import BeautifulSoup\n",
    "from datetime import datetime\n",
    "from selenium import webdriver\n",
    "from selenium.webdriver.common.by import By\n",
    "import pandas as pd\n",
    "from datetime import datetime, timedelta\n",
    "import mysql.connector\n",
    "from selenium.webdriver.support.ui import WebDriverWait\n",
    "from selenium.webdriver.support import expected_conditions as EC\n",
    "import re\n",
    "from dotenv import load_dotenv\n",
    "import os"
   ]
  },
  {
   "cell_type": "code",
   "execution_count": 31,
   "metadata": {},
   "outputs": [
    {
     "data": {
      "text/plain": [
       "True"
      ]
     },
     "execution_count": 31,
     "metadata": {},
     "output_type": "execute_result"
    }
   ],
   "source": [
    "#company_df = pd.read_csv(\"D:\\Curious\\workday-scrapper\\database\\company_list.csv\")"
   ]
  },
  {
   "cell_type": "markdown",
   "metadata": {},
   "source": [
    "## Database Connection"
   ]
  },
  {
   "cell_type": "code",
   "execution_count": 3,
   "metadata": {},
   "outputs": [],
   "source": [
    "load_dotenv()\n",
    "# Establish a connection to your MySQL database\n",
    "connection = mysql.connector.connect(\n",
    "    host=os.getenv('DB_HOST'),\n",
    "    port=3306,\n",
    "    user=os.getenv('DB_USER'),\n",
    "    password=os.getenv('DB_PASSWORD'),\n",
    "    database=os.getenv('DB_NAME')\n",
    ")\n",
    "\n",
    "# Create a cursor object to interact with the database\n",
    "cursor = connection.cursor()"
   ]
  },
  {
   "cell_type": "code",
   "execution_count": 4,
   "metadata": {},
   "outputs": [],
   "source": [
    "# Getting the company_info Data from the Database and storing it in a dataframe\n",
    "\n",
    "#Fetching the company_info data from the database\n",
    "get_sql_query = \"SELECT * FROM company_info;\"\n",
    "cursor.execute(get_sql_query)\n",
    "company_data = cursor.fetchall()\n",
    "\n",
    "#Converting the fetched data into a dataframe\n",
    "company_df = pd.DataFrame(company_data, columns=['company_id', 'company_name', 'company_url'])"
   ]
  },
  {
   "cell_type": "code",
   "execution_count": 41,
   "metadata": {},
   "outputs": [
    {
     "data": {
      "text/html": [
       "<div>\n",
       "<style scoped>\n",
       "    .dataframe tbody tr th:only-of-type {\n",
       "        vertical-align: middle;\n",
       "    }\n",
       "\n",
       "    .dataframe tbody tr th {\n",
       "        vertical-align: top;\n",
       "    }\n",
       "\n",
       "    .dataframe thead th {\n",
       "        text-align: right;\n",
       "    }\n",
       "</style>\n",
       "<table border=\"1\" class=\"dataframe\">\n",
       "  <thead>\n",
       "    <tr style=\"text-align: right;\">\n",
       "      <th></th>\n",
       "      <th>company_id</th>\n",
       "      <th>company_name</th>\n",
       "      <th>company_url</th>\n",
       "    </tr>\n",
       "  </thead>\n",
       "  <tbody>\n",
       "    <tr>\n",
       "      <th>0</th>\n",
       "      <td>1</td>\n",
       "      <td>Prudential Financial</td>\n",
       "      <td>https://pru.wd5.myworkdayjobs.com/en-US/Careers</td>\n",
       "    </tr>\n",
       "    <tr>\n",
       "      <th>1</th>\n",
       "      <td>2</td>\n",
       "      <td>Disney</td>\n",
       "      <td>https://disney.wd5.myworkdayjobs.com/disneycar...</td>\n",
       "    </tr>\n",
       "    <tr>\n",
       "      <th>2</th>\n",
       "      <td>3</td>\n",
       "      <td>FactSet</td>\n",
       "      <td>https://factset.wd1.myworkdayjobs.com/en-US/Fa...</td>\n",
       "    </tr>\n",
       "    <tr>\n",
       "      <th>3</th>\n",
       "      <td>4</td>\n",
       "      <td>American Family Insurance</td>\n",
       "      <td>https://amfam.wd1.myworkdayjobs.com/Careers</td>\n",
       "    </tr>\n",
       "    <tr>\n",
       "      <th>4</th>\n",
       "      <td>5</td>\n",
       "      <td>Santander</td>\n",
       "      <td>https://santander.wd3.myworkdayjobs.com/en-US/...</td>\n",
       "    </tr>\n",
       "  </tbody>\n",
       "</table>\n",
       "</div>"
      ],
      "text/plain": [
       "   company_id               company_name  \\\n",
       "0           1       Prudential Financial   \n",
       "1           2                     Disney   \n",
       "2           3                    FactSet   \n",
       "3           4  American Family Insurance   \n",
       "4           5                  Santander   \n",
       "\n",
       "                                         company_url  \n",
       "0    https://pru.wd5.myworkdayjobs.com/en-US/Careers  \n",
       "1  https://disney.wd5.myworkdayjobs.com/disneycar...  \n",
       "2  https://factset.wd1.myworkdayjobs.com/en-US/Fa...  \n",
       "3        https://amfam.wd1.myworkdayjobs.com/Careers  \n",
       "4  https://santander.wd3.myworkdayjobs.com/en-US/...  "
      ]
     },
     "execution_count": 34,
     "metadata": {},
     "output_type": "execute_result"
    }
   ],
   "source": [
    "company_df.head()"
   ]
  },
  {
   "cell_type": "code",
   "execution_count": 54,
   "metadata": {},
   "outputs": [
    {
     "name": "stdout",
     "output_type": "stream",
     "text": [
      "<selenium.webdriver.remote.webelement.WebElement (session=\"c4a4854235be3bcb5fcc7058c3904d1e\", element=\"f.9C3229FAD946AA996A8E3682AABA776F.d.40273E19BD2EAA44719DA188D9069591.e.46\")>\n",
      "<selenium.webdriver.remote.webelement.WebElement (session=\"c4a4854235be3bcb5fcc7058c3904d1e\", element=\"f.9C3229FAD946AA996A8E3682AABA776F.d.40273E19BD2EAA44719DA188D9069591.e.46\")>\n",
      "<selenium.webdriver.remote.webelement.WebElement (session=\"c4a4854235be3bcb5fcc7058c3904d1e\", element=\"f.9C3229FAD946AA996A8E3682AABA776F.d.40273E19BD2EAA44719DA188D9069591.e.46\")>\n",
      "<selenium.webdriver.remote.webelement.WebElement (session=\"3c33e79d88a10d86f1a6ed19f33aba69\", element=\"f.3A5119A3B5AA3577FF9F03AD2056E738.d.8CDC05455E4B1FFFEB3B75A26127FA77.e.33\")>\n",
      "<selenium.webdriver.remote.webelement.WebElement (session=\"3c33e79d88a10d86f1a6ed19f33aba69\", element=\"f.3A5119A3B5AA3577FF9F03AD2056E738.d.8CDC05455E4B1FFFEB3B75A26127FA77.e.33\")>\n",
      "<selenium.webdriver.remote.webelement.WebElement (session=\"3c33e79d88a10d86f1a6ed19f33aba69\", element=\"f.3A5119A3B5AA3577FF9F03AD2056E738.d.8CDC05455E4B1FFFEB3B75A26127FA77.e.33\")>\n",
      "<selenium.webdriver.remote.webelement.WebElement (session=\"abe4fa9f0f60e6feb9fe6b6d83b08f5c\", element=\"f.4B8F151D85A585A5D2FF917A28AC50CA.d.873E494FFDCBC77073AFCE48B44ADB65.e.18\")>\n",
      "<selenium.webdriver.remote.webelement.WebElement (session=\"abe4fa9f0f60e6feb9fe6b6d83b08f5c\", element=\"f.4B8F151D85A585A5D2FF917A28AC50CA.d.873E494FFDCBC77073AFCE48B44ADB65.e.18\")>\n",
      "<selenium.webdriver.remote.webelement.WebElement (session=\"abe4fa9f0f60e6feb9fe6b6d83b08f5c\", element=\"f.4B8F151D85A585A5D2FF917A28AC50CA.d.873E494FFDCBC77073AFCE48B44ADB65.e.18\")>\n",
      "<selenium.webdriver.remote.webelement.WebElement (session=\"cd5d1177af9f3eec566bae1cf48ee0e3\", element=\"f.1684D86566E947015FD00A6DD84A8365.d.1B777032030628C7803230D05226D592.e.25\")>\n",
      "<selenium.webdriver.remote.webelement.WebElement (session=\"cd5d1177af9f3eec566bae1cf48ee0e3\", element=\"f.1684D86566E947015FD00A6DD84A8365.d.1B777032030628C7803230D05226D592.e.25\")>\n",
      "<selenium.webdriver.remote.webelement.WebElement (session=\"cd5d1177af9f3eec566bae1cf48ee0e3\", element=\"f.1684D86566E947015FD00A6DD84A8365.d.1B777032030628C7803230D05226D592.e.25\")>\n",
      "<selenium.webdriver.remote.webelement.WebElement (session=\"c9d4539e610d4a217980072f52c6b085\", element=\"f.C8B06369D9780B9C99CCD4B56F088937.d.8A121BF6D7410C28E9ECAE3A8CFDAA79.e.36\")>\n",
      "<selenium.webdriver.remote.webelement.WebElement (session=\"c9d4539e610d4a217980072f52c6b085\", element=\"f.C8B06369D9780B9C99CCD4B56F088937.d.8A121BF6D7410C28E9ECAE3A8CFDAA79.e.36\")>\n",
      "<selenium.webdriver.remote.webelement.WebElement (session=\"c9d4539e610d4a217980072f52c6b085\", element=\"f.C8B06369D9780B9C99CCD4B56F088937.d.8A121BF6D7410C28E9ECAE3A8CFDAA79.e.36\")>\n",
      "<selenium.webdriver.remote.webelement.WebElement (session=\"a7719dac71c9eb9ac53791e807081889\", element=\"f.E0FA8F97DE6BFD78407BFEC3BDE9CE19.d.077DB5EB6F238CAEACB4C6ED8A30E95D.e.31\")>\n",
      "<selenium.webdriver.remote.webelement.WebElement (session=\"a7719dac71c9eb9ac53791e807081889\", element=\"f.E0FA8F97DE6BFD78407BFEC3BDE9CE19.d.077DB5EB6F238CAEACB4C6ED8A30E95D.e.31\")>\n",
      "<selenium.webdriver.remote.webelement.WebElement (session=\"a7719dac71c9eb9ac53791e807081889\", element=\"f.E0FA8F97DE6BFD78407BFEC3BDE9CE19.d.077DB5EB6F238CAEACB4C6ED8A30E95D.e.31\")>\n",
      "<selenium.webdriver.remote.webelement.WebElement (session=\"a06ef3e822619c186165fde8717b45bc\", element=\"f.7C5C32C1F4C2A64F1D690CA5CFD4559D.d.20C0E9E0C04D1911353E5D9645399DCD.e.19\")>\n",
      "<selenium.webdriver.remote.webelement.WebElement (session=\"a06ef3e822619c186165fde8717b45bc\", element=\"f.7C5C32C1F4C2A64F1D690CA5CFD4559D.d.20C0E9E0C04D1911353E5D9645399DCD.e.19\")>\n",
      "<selenium.webdriver.remote.webelement.WebElement (session=\"a06ef3e822619c186165fde8717b45bc\", element=\"f.7C5C32C1F4C2A64F1D690CA5CFD4559D.d.20C0E9E0C04D1911353E5D9645399DCD.e.19\")>\n",
      "<selenium.webdriver.remote.webelement.WebElement (session=\"11604de92995aa90edf5e9cd2a4dcd5e\", element=\"f.ABFD273B97139D218FBE68FB2A2BC551.d.70643F050DB90E4A4BC74B2F3D8C4D20.e.25\")>\n",
      "Error occurred while extracting job data: 'NoneType' object has no attribute 'text'\n",
      "<selenium.webdriver.remote.webelement.WebElement (session=\"11604de92995aa90edf5e9cd2a4dcd5e\", element=\"f.ABFD273B97139D218FBE68FB2A2BC551.d.70643F050DB90E4A4BC74B2F3D8C4D20.e.25\")>\n",
      "Error occurred while extracting job data: 'NoneType' object has no attribute 'text'\n",
      "<selenium.webdriver.remote.webelement.WebElement (session=\"11604de92995aa90edf5e9cd2a4dcd5e\", element=\"f.ABFD273B97139D218FBE68FB2A2BC551.d.70643F050DB90E4A4BC74B2F3D8C4D20.e.25\")>\n",
      "<selenium.webdriver.remote.webelement.WebElement (session=\"90945b1ca515b62143e74f073d11458e\", element=\"f.D69380CCFFAC931D19F91A02D8C9B873.d.1A360B808B9F7B8361E1D3D54DE456B1.e.27\")>\n",
      "<selenium.webdriver.remote.webelement.WebElement (session=\"90945b1ca515b62143e74f073d11458e\", element=\"f.D69380CCFFAC931D19F91A02D8C9B873.d.1A360B808B9F7B8361E1D3D54DE456B1.e.27\")>\n",
      "<selenium.webdriver.remote.webelement.WebElement (session=\"90945b1ca515b62143e74f073d11458e\", element=\"f.D69380CCFFAC931D19F91A02D8C9B873.d.1A360B808B9F7B8361E1D3D54DE456B1.e.27\")>\n",
      "<selenium.webdriver.remote.webelement.WebElement (session=\"66cad6d4280780cbe450a27dc13201c4\", element=\"f.38065D95ADD7E59D0CAA48941987D16A.d.9952C748B37C66B2AC47D7E636B01642.e.24\")>\n",
      "<selenium.webdriver.remote.webelement.WebElement (session=\"66cad6d4280780cbe450a27dc13201c4\", element=\"f.38065D95ADD7E59D0CAA48941987D16A.d.9952C748B37C66B2AC47D7E636B01642.e.24\")>\n",
      "<selenium.webdriver.remote.webelement.WebElement (session=\"66cad6d4280780cbe450a27dc13201c4\", element=\"f.38065D95ADD7E59D0CAA48941987D16A.d.9952C748B37C66B2AC47D7E636B01642.e.24\")>\n",
      "<selenium.webdriver.remote.webelement.WebElement (session=\"6f101fd42d4f16f7cdc759303e92b7f0\", element=\"f.8FF438BAF4FDAAAAAB844CC0249B6A7B.d.E9C721EA56B46E0FECDE575CD6564D37.e.24\")>\n",
      "<selenium.webdriver.remote.webelement.WebElement (session=\"6f101fd42d4f16f7cdc759303e92b7f0\", element=\"f.8FF438BAF4FDAAAAAB844CC0249B6A7B.d.E9C721EA56B46E0FECDE575CD6564D37.e.24\")>\n",
      "<selenium.webdriver.remote.webelement.WebElement (session=\"6f101fd42d4f16f7cdc759303e92b7f0\", element=\"f.8FF438BAF4FDAAAAAB844CC0249B6A7B.d.E9C721EA56B46E0FECDE575CD6564D37.e.24\")>\n",
      "<selenium.webdriver.remote.webelement.WebElement (session=\"6b728b9848dba15f3d5a8fc459170360\", element=\"f.C0B04CFC68001CD5F13F0F7126A38E17.d.FCD57B44F7826F8A45AA34DD7F567268.e.23\")>\n",
      "<selenium.webdriver.remote.webelement.WebElement (session=\"6b728b9848dba15f3d5a8fc459170360\", element=\"f.C0B04CFC68001CD5F13F0F7126A38E17.d.FCD57B44F7826F8A45AA34DD7F567268.e.23\")>\n",
      "<selenium.webdriver.remote.webelement.WebElement (session=\"6b728b9848dba15f3d5a8fc459170360\", element=\"f.C0B04CFC68001CD5F13F0F7126A38E17.d.FCD57B44F7826F8A45AA34DD7F567268.e.23\")>\n",
      "<selenium.webdriver.remote.webelement.WebElement (session=\"e5af69af11fb21443abbfc7e2c1c9ea5\", element=\"f.2CBB183A4EC4D11F408057FE0FA901A7.d.F717E10921D2A5C19B46CE5118232081.e.21\")>\n",
      "<selenium.webdriver.remote.webelement.WebElement (session=\"e5af69af11fb21443abbfc7e2c1c9ea5\", element=\"f.2CBB183A4EC4D11F408057FE0FA901A7.d.F717E10921D2A5C19B46CE5118232081.e.21\")>\n",
      "<selenium.webdriver.remote.webelement.WebElement (session=\"e5af69af11fb21443abbfc7e2c1c9ea5\", element=\"f.2CBB183A4EC4D11F408057FE0FA901A7.d.F717E10921D2A5C19B46CE5118232081.e.21\")>\n",
      "<selenium.webdriver.remote.webelement.WebElement (session=\"1750d42a6033e268d90fad83c2a0e0c1\", element=\"f.BEBD0C97E012616489DE6F9465A10E6E.d.EDE13A99277703920854A82A89A81242.e.27\")>\n",
      "<selenium.webdriver.remote.webelement.WebElement (session=\"1750d42a6033e268d90fad83c2a0e0c1\", element=\"f.BEBD0C97E012616489DE6F9465A10E6E.d.EDE13A99277703920854A82A89A81242.e.27\")>\n",
      "<selenium.webdriver.remote.webelement.WebElement (session=\"1750d42a6033e268d90fad83c2a0e0c1\", element=\"f.BEBD0C97E012616489DE6F9465A10E6E.d.EDE13A99277703920854A82A89A81242.e.27\")>\n",
      "<selenium.webdriver.remote.webelement.WebElement (session=\"12ab85c03c84c1c4ad1159c3b94beb57\", element=\"f.58A7E3DC6A5CD04479BB3D1E5293FD04.d.FDD683E4CCC2690C5A18E24E95790040.e.21\")>\n",
      "<selenium.webdriver.remote.webelement.WebElement (session=\"12ab85c03c84c1c4ad1159c3b94beb57\", element=\"f.58A7E3DC6A5CD04479BB3D1E5293FD04.d.FDD683E4CCC2690C5A18E24E95790040.e.21\")>\n",
      "<selenium.webdriver.remote.webelement.WebElement (session=\"12ab85c03c84c1c4ad1159c3b94beb57\", element=\"f.58A7E3DC6A5CD04479BB3D1E5293FD04.d.FDD683E4CCC2690C5A18E24E95790040.e.21\")>\n",
      "<selenium.webdriver.remote.webelement.WebElement (session=\"00d54ae87be1b663ca4e04e4a2f63893\", element=\"f.7AA6661A07BD9A29750714C93731E8B6.d.98691F337E962D088F1F40347A242467.e.24\")>\n",
      "<selenium.webdriver.remote.webelement.WebElement (session=\"00d54ae87be1b663ca4e04e4a2f63893\", element=\"f.7AA6661A07BD9A29750714C93731E8B6.d.98691F337E962D088F1F40347A242467.e.24\")>\n",
      "<selenium.webdriver.remote.webelement.WebElement (session=\"00d54ae87be1b663ca4e04e4a2f63893\", element=\"f.7AA6661A07BD9A29750714C93731E8B6.d.98691F337E962D088F1F40347A242467.e.24\")>\n",
      "<selenium.webdriver.remote.webelement.WebElement (session=\"436dae94b5f2fd0497e255c18103a145\", element=\"f.55D9E78D5D409A33BC7DB12E4A27DF30.d.C566EC392DE3453563BA0346BF0AB09F.e.40\")>\n",
      "<selenium.webdriver.remote.webelement.WebElement (session=\"436dae94b5f2fd0497e255c18103a145\", element=\"f.55D9E78D5D409A33BC7DB12E4A27DF30.d.C566EC392DE3453563BA0346BF0AB09F.e.40\")>\n",
      "<selenium.webdriver.remote.webelement.WebElement (session=\"436dae94b5f2fd0497e255c18103a145\", element=\"f.55D9E78D5D409A33BC7DB12E4A27DF30.d.C566EC392DE3453563BA0346BF0AB09F.e.40\")>\n",
      "<selenium.webdriver.remote.webelement.WebElement (session=\"3f062e4bd19f41d39ab62f8b438f1e1a\", element=\"f.3BB3E786E537BBE952007662CAB16AEB.d.447271BAC2A5E2442F539FA32EDD003A.e.21\")>\n",
      "<selenium.webdriver.remote.webelement.WebElement (session=\"3f062e4bd19f41d39ab62f8b438f1e1a\", element=\"f.3BB3E786E537BBE952007662CAB16AEB.d.447271BAC2A5E2442F539FA32EDD003A.e.21\")>\n",
      "<selenium.webdriver.remote.webelement.WebElement (session=\"3f062e4bd19f41d39ab62f8b438f1e1a\", element=\"f.3BB3E786E537BBE952007662CAB16AEB.d.447271BAC2A5E2442F539FA32EDD003A.e.21\")>\n",
      "<selenium.webdriver.remote.webelement.WebElement (session=\"0ca81c765f65931e4c67ab22ed38430f\", element=\"f.C28AEAE543F8EE6C7717CF1E3CF3A010.d.55B77F251FB29E9330117292D6121F5C.e.37\")>\n",
      "Error occurred while extracting job data: 'NoneType' object has no attribute 'text'\n",
      "<selenium.webdriver.remote.webelement.WebElement (session=\"0ca81c765f65931e4c67ab22ed38430f\", element=\"f.C28AEAE543F8EE6C7717CF1E3CF3A010.d.55B77F251FB29E9330117292D6121F5C.e.37\")>\n",
      "Error occurred while extracting job data: 'NoneType' object has no attribute 'text'\n",
      "<selenium.webdriver.remote.webelement.WebElement (session=\"0ca81c765f65931e4c67ab22ed38430f\", element=\"f.C28AEAE543F8EE6C7717CF1E3CF3A010.d.55B77F251FB29E9330117292D6121F5C.e.37\")>\n",
      "<selenium.webdriver.remote.webelement.WebElement (session=\"a94f897ccc1681645aa314625466f1d2\", element=\"f.E2F2016771AC0C396F4EB5C5E6993ABD.d.1D6A3EE665AAC35C4ED65AB4BFD01002.e.2\")>\n",
      "<selenium.webdriver.remote.webelement.WebElement (session=\"a94f897ccc1681645aa314625466f1d2\", element=\"f.E2F2016771AC0C396F4EB5C5E6993ABD.d.1D6A3EE665AAC35C4ED65AB4BFD01002.e.2\")>\n",
      "<selenium.webdriver.remote.webelement.WebElement (session=\"a94f897ccc1681645aa314625466f1d2\", element=\"f.E2F2016771AC0C396F4EB5C5E6993ABD.d.1D6A3EE665AAC35C4ED65AB4BFD01002.e.2\")>\n",
      "<selenium.webdriver.remote.webelement.WebElement (session=\"8315c71b2d39f2610b30c697b584233d\", element=\"f.62C448839827DA8243AEA4CE9409EE4A.d.F9E05A52B094153BA86D06D8E7C703FB.e.4\")>\n",
      "<selenium.webdriver.remote.webelement.WebElement (session=\"8315c71b2d39f2610b30c697b584233d\", element=\"f.62C448839827DA8243AEA4CE9409EE4A.d.F9E05A52B094153BA86D06D8E7C703FB.e.4\")>\n",
      "<selenium.webdriver.remote.webelement.WebElement (session=\"8315c71b2d39f2610b30c697b584233d\", element=\"f.62C448839827DA8243AEA4CE9409EE4A.d.F9E05A52B094153BA86D06D8E7C703FB.e.4\")>\n",
      "<selenium.webdriver.remote.webelement.WebElement (session=\"e573b3cad055db28a65ac75e0fa04b57\", element=\"f.AED3F8EAFDFE58370C8D1B0471E4F70F.d.77C62345FDF8267E28DE390E53E6C360.e.23\")>\n",
      "<selenium.webdriver.remote.webelement.WebElement (session=\"e573b3cad055db28a65ac75e0fa04b57\", element=\"f.AED3F8EAFDFE58370C8D1B0471E4F70F.d.77C62345FDF8267E28DE390E53E6C360.e.23\")>\n",
      "<selenium.webdriver.remote.webelement.WebElement (session=\"e573b3cad055db28a65ac75e0fa04b57\", element=\"f.AED3F8EAFDFE58370C8D1B0471E4F70F.d.77C62345FDF8267E28DE390E53E6C360.e.23\")>\n",
      "<selenium.webdriver.remote.webelement.WebElement (session=\"162a86d5c74e61dd1922bab36bb44b74\", element=\"f.97E555F368BC598868A1117C2199C9B9.d.31E499B6422DAB316BA7D3137DDF0219.e.1\")>\n",
      "<selenium.webdriver.remote.webelement.WebElement (session=\"162a86d5c74e61dd1922bab36bb44b74\", element=\"f.97E555F368BC598868A1117C2199C9B9.d.31E499B6422DAB316BA7D3137DDF0219.e.1\")>\n",
      "<selenium.webdriver.remote.webelement.WebElement (session=\"162a86d5c74e61dd1922bab36bb44b74\", element=\"f.97E555F368BC598868A1117C2199C9B9.d.31E499B6422DAB316BA7D3137DDF0219.e.1\")>\n",
      "<selenium.webdriver.remote.webelement.WebElement (session=\"d0a63e6b54365a93e9a97be052dabd1c\", element=\"f.57C573B494B1EFF2E2812253E9685189.d.DBD455D39EAFEB64DDEC7FAE20B5DE74.e.27\")>\n",
      "<selenium.webdriver.remote.webelement.WebElement (session=\"d0a63e6b54365a93e9a97be052dabd1c\", element=\"f.57C573B494B1EFF2E2812253E9685189.d.DBD455D39EAFEB64DDEC7FAE20B5DE74.e.27\")>\n",
      "<selenium.webdriver.remote.webelement.WebElement (session=\"d0a63e6b54365a93e9a97be052dabd1c\", element=\"f.57C573B494B1EFF2E2812253E9685189.d.DBD455D39EAFEB64DDEC7FAE20B5DE74.e.27\")>\n",
      "<selenium.webdriver.remote.webelement.WebElement (session=\"f65352ef861d0597727152fb8cfa42eb\", element=\"f.6AE801BD275CDB49B6429ECE5AD8FBA0.d.54B78B321FF3579F88457ECEF0580CA0.e.3\")>\n",
      "<selenium.webdriver.remote.webelement.WebElement (session=\"f65352ef861d0597727152fb8cfa42eb\", element=\"f.6AE801BD275CDB49B6429ECE5AD8FBA0.d.54B78B321FF3579F88457ECEF0580CA0.e.3\")>\n",
      "<selenium.webdriver.remote.webelement.WebElement (session=\"f65352ef861d0597727152fb8cfa42eb\", element=\"f.6AE801BD275CDB49B6429ECE5AD8FBA0.d.54B78B321FF3579F88457ECEF0580CA0.e.3\")>\n",
      "<selenium.webdriver.remote.webelement.WebElement (session=\"b9f8ef35524fe6de1f0835f6b42dad90\", element=\"f.9C26CAB9D6C0478973B7725535FDA45B.d.07851BE6F42177F2103506FBB53F1627.e.3\")>\n",
      "<selenium.webdriver.remote.webelement.WebElement (session=\"b9f8ef35524fe6de1f0835f6b42dad90\", element=\"f.9C26CAB9D6C0478973B7725535FDA45B.d.07851BE6F42177F2103506FBB53F1627.e.3\")>\n",
      "<selenium.webdriver.remote.webelement.WebElement (session=\"b9f8ef35524fe6de1f0835f6b42dad90\", element=\"f.9C26CAB9D6C0478973B7725535FDA45B.d.07851BE6F42177F2103506FBB53F1627.e.3\")>\n",
      "<selenium.webdriver.remote.webelement.WebElement (session=\"9a7f9a24c452ca352e611f5ca8098a55\", element=\"f.26AE5487A4617E94A7A8804C244AA7E3.d.8F5CBA9856DA1F2E07399025BFE8BBA9.e.3\")>\n",
      "Error occurred while extracting job data: 'NoneType' object has no attribute 'find_next_sibling'\n",
      "<selenium.webdriver.remote.webelement.WebElement (session=\"9a7f9a24c452ca352e611f5ca8098a55\", element=\"f.26AE5487A4617E94A7A8804C244AA7E3.d.8F5CBA9856DA1F2E07399025BFE8BBA9.e.3\")>\n",
      "Error occurred while extracting job data: 'NoneType' object has no attribute 'find_next_sibling'\n",
      "<selenium.webdriver.remote.webelement.WebElement (session=\"9a7f9a24c452ca352e611f5ca8098a55\", element=\"f.26AE5487A4617E94A7A8804C244AA7E3.d.8F5CBA9856DA1F2E07399025BFE8BBA9.e.3\")>\n"
     ]
    }
   ],
   "source": [
    "import time\n",
    "# Implement your scraping logic here for the current company\n",
    "job_data = []\n",
    "# Assuming you have a DataFrame named 'company_df' containing company information\n",
    "for index, company_row in company_df.iterrows():\n",
    "    # Assuming you have retrieved the company_id, company_name, and company_url from the DataFrame\n",
    "    company_id = company_row['company_id']\n",
    "    company_name = company_row['company_name']\n",
    "    company_url = company_row['company_url']\n",
    "\n",
    "    # Extract the base URL from the company URL\n",
    "    # if company_url.endswith('/en-US/Careers'):\n",
    "    #     base_company_url = company_url[:-len('/en-US/Careers')]\n",
    "    # elif company_url.endswith('/en-US'):  # Check if company_url ends with \"/en-US\"\n",
    "    #     base_company_url = company_url[:-len('/en-US')]  # Remove \"/en-US\" if it exists\n",
    "    # elif company_url.endswith('/'):\n",
    "    #     base_company_url = company_url.rsplit('/', 1)[0]\n",
    "    # else :\n",
    "    #     base_company_url=company_url\n",
    "\n",
    "    base_company_url = company_url.split('.com')[0] + '.com'\n",
    "\n",
    "    \n",
    "    # Navigate to the company's website\n",
    "    driver = webdriver.Chrome()\n",
    "    driver.get(company_url)\n",
    "\n",
    "\n",
    "    page_count = 0\n",
    "    while page_count < 3:\n",
    "        # Get the page source\n",
    "        page_source = driver.page_source\n",
    "        \n",
    "        # Parse the page source with BeautifulSoup\n",
    "        soup = BeautifulSoup(page_source, 'html.parser')\n",
    "\n",
    "        # Find all job postings on the current page\n",
    "        job_postings = soup.find_all(\"li\", class_=\"css-1q2dra3\")\n",
    "\n",
    "        # Extract job data from each posting\n",
    "        for job in job_postings:\n",
    "            try:\n",
    "                job_title_element = job.find('a', class_='css-19uc56f')\n",
    "                job_title = job_title_element.text.strip()\n",
    "                print('jobTitle',job_title)\n",
    "                job_url = job_title_element['href']\n",
    "                \n",
    "\n",
    "                location_element = job.find('dt', string='locations').find_next_sibling('dd')\n",
    "                location = location_element.text.strip()\n",
    "                \n",
    "                \n",
    "                posting_date_element = job.find('dt', string=lambda text: text in ['posted on', 'postedOn']).find_next_sibling('dd')\n",
    "                posting_date = posting_date_element.text.strip()\n",
    "                \n",
    "\n",
    "                job_id_element = job.find('li', class_='css-h2nt8k')\n",
    "                job_id = job_id_element.text.strip()\n",
    "                \n",
    "\n",
    "                \n",
    "                if posting_date in ['Posted Today', 'Posted Yesterday']:\n",
    "                    full_job_url = f\"{base_company_url}{job_url}\"\n",
    "            \n",
    "                    job_data.append({\n",
    "                        'company_id': company_id,\n",
    "                        'company_name': company_name,\n",
    "                        'company_url': company_url,\n",
    "                        'job_title': job_title,\n",
    "                        'job_url':  full_job_url,\n",
    "                        'location': location,\n",
    "                        'posting_date': posting_date,\n",
    "                        'job_id': job_id\n",
    "                    })\n",
    "                    \n",
    "                else:\n",
    "                    continue\n",
    "            except AttributeError as e:\n",
    "                print(\"Error occurred while extracting job data:\", e)\n",
    "                continue\n",
    "\n",
    "        # Increment page count\n",
    "        page_count += 1\n",
    "        # Look for the next page button\n",
    "        # next_button_xpath = f'//li[contains(@class, \"css-1j096s0\")]/button[text()=\"{page_count + 1}\"]'\n",
    "        try: \n",
    "            next_button = WebDriverWait(driver, 10).until(EC.element_to_be_clickable((By.XPATH, \"//li[contains(@class, 'css-1j096s0')]/button[contains(@aria-label, 'page')]\")))\n",
    "            print(next_button)\n",
    "            # next_button = driver.find_element(By.XPATH, next_button)\n",
    "\n",
    "            # If there is no next page button, break the loop\n",
    "            if not next_button or page_count >= 3:\n",
    "                break\n",
    "            # Click the next page button\n",
    "            next_button.click()\n",
    "            \n",
    "            # Wait for the page to load\n",
    "            WebDriverWait(driver, 10).until(EC.invisibility_of_element_located((By.ID, \"loading-indicator\")))  # Replace \"loading-indicator\" with actual ID if applicable\n",
    "        except Exception as e:\n",
    "            print(f\"Error navigating to the next page: {e}\")\n",
    "            continue  # Break the loop if unable to find the next button or any other exception occurs\n",
    "\n",
    "    # Quit the driver\n",
    "    driver.quit()\n",
    "    \n"
   ]
  },
  {
   "cell_type": "markdown",
   "metadata": {},
   "source": [
    "## Taking into dataframe - all common jobs"
   ]
  },
  {
   "cell_type": "code",
   "execution_count": 50,
   "metadata": {},
   "outputs": [],
   "source": [
    "df_job = pd.DataFrame(job_data)"
   ]
  },
  {
   "cell_type": "code",
   "execution_count": 46,
   "metadata": {},
   "outputs": [],
   "source": [
    "df_job = df_job.drop_duplicates()"
   ]
  },
  {
   "cell_type": "code",
   "execution_count": 51,
   "metadata": {},
   "outputs": [
    {
     "data": {
      "text/plain": [
       "(351, 8)"
      ]
     },
     "execution_count": 22,
     "metadata": {},
     "output_type": "execute_result"
    }
   ],
   "source": [
    "df_job.shape"
   ]
  },
  {
   "cell_type": "code",
   "execution_count": 52,
   "metadata": {},
   "outputs": [
    {
     "data": {
      "text/plain": [
       "(0, 0)"
      ]
     },
     "execution_count": 52,
     "metadata": {},
     "output_type": "execute_result"
    }
   ],
   "source": [
    "df_job.shape"
   ]
  },
  {
   "cell_type": "code",
   "execution_count": 43,
   "metadata": {},
   "outputs": [],
   "source": [
    "# Function to update posting date\n",
    "def update_posting_date(row):\n",
    "    if row['posting_date'] == 'Posted Today':\n",
    "        return datetime.now().strftime('%Y-%m-%d')\n",
    "    elif row['posting_date'] == 'Posted Yesterday':\n",
    "        return (datetime.now() - timedelta(days=1)).strftime('%Y-%m-%d')\n",
    "    else:\n",
    "        return row['posting_date']\n",
    "\n",
    "# Apply the function to update posting dates\n",
    "df_job['posting_date'] = df_job.apply(update_posting_date, axis=1)"
   ]
  },
  {
   "cell_type": "code",
   "execution_count": 44,
   "metadata": {},
   "outputs": [],
   "source": [
    "#Inserting all rows from df_job into job_info table\n",
    "for index, row in df_job.iterrows():\n",
    "    insert_query = \"INSERT INTO job_info (job_id, job_title, job_url, job_location, post_date, company_id) VALUES (%s, %s, %s, %s, %s, %s)\"\n",
    "    job_values = (row['job_id'], row['job_title'], row['job_url'], row['location'], row['posting_date'], row['company_id'])\n",
    "    cursor.execute(insert_query, job_values)\n",
    "\n",
    "# Commit changes to the database\n",
    "connection.commit()\n"
   ]
  },
  {
   "cell_type": "code",
   "execution_count": 20,
   "metadata": {},
   "outputs": [
    {
     "data": {
      "text/plain": [
       "Index(['company_id', 'company_name', 'company_url', 'job_title', 'job_url',\n",
       "       'location', 'posting_date', 'job_id'],\n",
       "      dtype='object')"
      ]
     },
     "execution_count": 20,
     "metadata": {},
     "output_type": "execute_result"
    }
   ],
   "source": [
    "df_job.columns"
   ]
  },
  {
   "cell_type": "code",
   "execution_count": 23,
   "metadata": {},
   "outputs": [],
   "source": [
    "df_job.to_csv(\"database/job_listings.csv\",index=False)"
   ]
  },
  {
   "cell_type": "markdown",
   "metadata": {},
   "source": [
    "## Software jobs"
   ]
  },
  {
   "cell_type": "code",
   "execution_count": 24,
   "metadata": {},
   "outputs": [],
   "source": [
    "df_job_software = df_job[df_job['job_title'].str.contains(r\"\\bsoftware\\b\", flags=re.IGNORECASE)]"
   ]
  },
  {
   "cell_type": "code",
   "execution_count": 25,
   "metadata": {},
   "outputs": [],
   "source": [
    "df_job_software.to_csv(\"database/software_job_listings.csv\",index=False)"
   ]
  },
  {
   "cell_type": "markdown",
   "metadata": {},
   "source": [
    "## Data jobs"
   ]
  },
  {
   "cell_type": "code",
   "execution_count": 26,
   "metadata": {},
   "outputs": [],
   "source": [
    "df_job_data = df_job[df_job['job_title'].str.contains(r\"\\bdata\\b\", flags=re.IGNORECASE)]"
   ]
  },
  {
   "cell_type": "code",
   "execution_count": 27,
   "metadata": {},
   "outputs": [],
   "source": [
    "df_job_data.to_csv(\"database/data_job_listings.csv\",index=False)"
   ]
  },
  {
   "cell_type": "markdown",
   "metadata": {},
   "source": [
    "## Database conenction- Insert into MYSQL database "
   ]
  },
  {
   "cell_type": "code",
   "execution_count": 2,
   "metadata": {},
   "outputs": [],
   "source": [
    "# Establish a connection to your MySQL database\n",
    "connection = mysql.connector.connect(\n",
    "    host='localhost',\n",
    "    port = 3306,\n",
    "    user='root',\n",
    "    password='Aayurajvi12!',\n",
    "    database='scrapper'\n",
    ")\n",
    "\n",
    "# Create a cursor object to interact with the database\n",
    "cursor = connection.cursor()"
   ]
  },
  {
   "cell_type": "code",
   "execution_count": 4,
   "metadata": {},
   "outputs": [],
   "source": [
    "# Fetching all data from Database.\n",
    "get_sql_query = \"SELECT * FROM company_info;\"\n",
    "cursor.execute(get_sql_query)\n",
    "company_data = cursor.fetchall()\n",
    "company_df = pd.DataFrame(company_data, columns=['company_id', 'company_name', 'company_url'])\n"
   ]
  },
  {
   "cell_type": "code",
   "execution_count": 10,
   "metadata": {},
   "outputs": [
    {
     "name": "stdout",
     "output_type": "stream",
     "text": [
      "company_id                                                    1\n",
      "company_name                               Prudential Financial\n",
      "company_url     https://pru.wd5.myworkdayjobs.com/en-US/Careers\n",
      "Name: 0, dtype: object\n"
     ]
    }
   ],
   "source": [
    "print(company_df.loc[0])"
   ]
  },
  {
   "cell_type": "code",
   "execution_count": null,
   "metadata": {},
   "outputs": [],
   "source": [
    "for index, row in df_job.iterrows():\n",
    "    # Extract data from the DataFrame\n",
    "    job_id = row['job_id']\n",
    "    job_title = row['job_title']\n",
    "    job_url = row['job_url']\n",
    "    job_location = row['location']\n",
    "    posting_date = row['posting_date']\n",
    "    \n",
    "    # Assuming you have the company_id already defined\n",
    "    company_id = 1  # You need to set the appropriate company_id \n",
    "    # Check if the job_id already exists in the job_info table\n",
    "    cursor.execute(\"SELECT job_id FROM job_info WHERE job_id = %s\", (job_id,))\n",
    "    result = cursor.fetchone()\n",
    "    if result:\n",
    "        # print(f\"Skipping job with ID {job_id} as it already exists in the database.\")\n",
    "        continue  # Skip this iteration of the loop\n",
    "\n",
    "    # Insert data into the job_info table using parameterized query to avoid SQL injection\n",
    "    sql = \"INSERT INTO job_info (job_id, job_title, job_url, job_location, posting_date, company_id) VALUES (%s, %s, %s, %s, %s, %s)\"\n",
    "    values = (job_id, job_title, job_url, job_location, posting_date, company_id)\n",
    "    cursor.execute(sql, values)\n",
    "\n",
    "# Commit the transaction\n",
    "connection.commit()\n",
    "\n",
    "# # Close cursor and connection\n",
    "# cursor.close()\n",
    "# connection.close()\n"
   ]
  },
  {
   "cell_type": "code",
   "execution_count": null,
   "metadata": {},
   "outputs": [],
   "source": [
    "for index, row in company_df.iterrows():\n",
    "    # Extract company information from the DataFrame\n",
    "    company_name = row['company_name']\n",
    "    company_url = row['company_url']\n",
    "    \n",
    "    # Check if the company already exists in the company_info table\n",
    "    cursor.execute(\"SELECT company_id FROM company_info WHERE company_name = %s\", (company_name,))\n",
    "    result = cursor.fetchone()\n",
    "    if result:\n",
    "        print(f\"Skipping company {company_name} as it already exists in the database.\")\n",
    "        continue  # Skip this iteration of the loop\n",
    "    \n",
    "    # Insert company information into the company_info table\n",
    "    cursor.execute(\"INSERT INTO company_info (company_name, company_url) VALUES (%s, %s)\", (company_name, company_url))\n",
    "    \n",
    "# Commit the transaction\n",
    "connection.commit()\n",
    "\n",
    "# Close cursor and connection\n",
    "cursor.close()\n",
    "connection.close()\n"
   ]
  },
  {
   "cell_type": "code",
   "execution_count": 14,
   "metadata": {},
   "outputs": [],
   "source": [
    "cursor.close()\n",
    "connection.close()\n"
   ]
  },
  {
   "cell_type": "code",
   "execution_count": null,
   "metadata": {},
   "outputs": [],
   "source": []
  }
 ],
 "metadata": {
  "kernelspec": {
   "display_name": "venv",
   "language": "python",
   "name": "python3"
  },
  "language_info": {
   "codemirror_mode": {
    "name": "ipython",
    "version": 3
   },
   "file_extension": ".py",
   "mimetype": "text/x-python",
   "name": "python",
   "nbconvert_exporter": "python",
   "pygments_lexer": "ipython3",
   "version": "3.12.1"
  }
 },
 "nbformat": 4,
 "nbformat_minor": 4
}
