{
 "cells": [
  {
   "cell_type": "code",
   "execution_count": 13,
   "metadata": {},
   "outputs": [],
   "source": [
    "#Importing the Libraries\n",
    "import pandas as pd\n",
    "import mysql.connector\n",
    "from dotenv import load_dotenv\n",
    "import os"
   ]
  },
  {
   "cell_type": "code",
   "execution_count": 14,
   "metadata": {},
   "outputs": [],
   "source": [
    "csv_file = r'C:\\Users\\rajvi\\Documents\\PersonalProject\\workday-scrapper\\database\\company_list.csv'\n",
    "\n",
    "company_df = pd.read_csv(csv_file)"
   ]
  },
  {
   "cell_type": "code",
   "execution_count": 15,
   "metadata": {},
   "outputs": [
    {
     "data": {
      "text/plain": [
       "Index(['company_id', 'company_name', 'company_url'], dtype='object')"
      ]
     },
     "execution_count": 15,
     "metadata": {},
     "output_type": "execute_result"
    }
   ],
   "source": [
    "company_df.columns"
   ]
  },
  {
   "cell_type": "code",
   "execution_count": 16,
   "metadata": {},
   "outputs": [],
   "source": [
    "load_dotenv()\n",
    "# Establish a connection to your MySQL database\n",
    "connection = mysql.connector.connect(\n",
    "    host=os.getenv('DB_HOST'),\n",
    "    port=3306,\n",
    "    user=os.getenv('DB_USER'),\n",
    "    password=os.getenv('DB_PASSWORD'),\n",
    "    database=os.getenv('DB_NAME')\n",
    ")\n",
    "\n",
    "# Create a cursor object to interact with the database\n",
    "cursor = connection.cursor()"
   ]
  },
  {
   "cell_type": "code",
   "execution_count": 17,
   "metadata": {},
   "outputs": [],
   "source": [
    "#To check if the company_exists\n",
    "def company_exists(cursor, company_name, company_url):\n",
    "    query = \"SELECT COUNT(*) FROM company_info WHERE company_name = %s AND company_url = %s\"\n",
    "    cursor.execute(query, (company_name, company_url))\n",
    "    return cursor.fetchone()[0] > 0"
   ]
  },
  {
   "cell_type": "code",
   "execution_count": 18,
   "metadata": {},
   "outputs": [],
   "source": [
    "# Function to insert a new company into the database\n",
    "def insert_company(cursor, company_name, company_url):\n",
    "    query = \"INSERT INTO company_info (company_name, company_url) VALUES (%s, %s)\"\n",
    "    cursor.execute(query, (company_name, company_url))"
   ]
  },
  {
   "cell_type": "code",
   "execution_count": 19,
   "metadata": {},
   "outputs": [
    {
     "name": "stdout",
     "output_type": "stream",
     "text": [
      "Skipped: Prudential Financial (already exists)\n",
      "Skipped: Disney (already exists)\n",
      "Skipped: FactSet (already exists)\n",
      "Skipped: American Family Insurance (already exists)\n",
      "Skipped: Santander (already exists)\n",
      "Skipped: Fidelity Investments (already exists)\n",
      "Skipped: Strategic Education Inc (already exists)\n",
      "Skipped: Walmart (already exists)\n",
      "Skipped: AT&T (already exists)\n",
      "Skipped: Bank of America (already exists)\n",
      "Skipped: Balyasny Asset Management (already exists)\n",
      "Skipped: Blue cross Blue Shield (already exists)\n",
      "Skipped: Mastercard (already exists)\n",
      "Skipped: Sanofi (already exists)\n",
      "Skipped: Comcast (already exists)\n",
      "Skipped: Warner Bros (already exists)\n",
      "Skipped: PWC (already exists)\n",
      "Skipped: BainCapital (already exists)\n",
      "Skipped: citi (already exists)\n",
      "Skipped: Regeneron (already exists)\n",
      "Skipped: Adobe (already exists)\n",
      "Skipped: Salesforce (already exists)\n",
      "Skipped: Hewlett Packard Enterprise (already exists)\n",
      "Skipped: Workday (already exists)\n",
      "Skipped: Nasdaq (already exists)\n",
      "Skipped: Yahoo (already exists)\n",
      "Skipped: Calvin Klein (already exists)\n",
      "Inserted: Target\n",
      "Skipped: Workday (already exists)\n"
     ]
    }
   ],
   "source": [
    "try:\n",
    "\n",
    "    for index, row in company_df.iterrows():\n",
    "        company_name = row['company_name']\n",
    "        company_url = row['company_url']\n",
    "        \n",
    "        if not company_exists(cursor, company_name, company_url):\n",
    "            insert_company(cursor, company_name, company_url)\n",
    "            print(f\"Inserted: {company_name}\")\n",
    "        # else:\n",
    "        #     print(f\"Skipped: {company_name} (already exists)\")\n",
    "\n",
    "    connection.commit()\n",
    "\n",
    "except Exception as e:\n",
    "    print(f\"Error: {e}\")\n",
    "finally:\n",
    "    if cursor:\n",
    "        cursor.close()\n",
    "    if connection:\n",
    "        connection.close()"
   ]
  },
  {
   "cell_type": "code",
   "execution_count": null,
   "metadata": {},
   "outputs": [],
   "source": []
  }
 ],
 "metadata": {
  "kernelspec": {
   "display_name": ".venv",
   "language": "python",
   "name": "python3"
  },
  "language_info": {
   "codemirror_mode": {
    "name": "ipython",
    "version": 3
   },
   "file_extension": ".py",
   "mimetype": "text/x-python",
   "name": "python",
   "nbconvert_exporter": "python",
   "pygments_lexer": "ipython3",
   "version": "3.12.1"
  }
 },
 "nbformat": 4,
 "nbformat_minor": 2
}
